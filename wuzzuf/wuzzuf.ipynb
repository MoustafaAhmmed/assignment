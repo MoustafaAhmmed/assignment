{
 "cells": [
  {
   "cell_type": "markdown",
   "metadata": {},
   "source": [
    "## import liberaries"
   ]
  },
  {
   "cell_type": "code",
   "execution_count": 1,
   "metadata": {},
   "outputs": [],
   "source": [
    "import attr\n",
    "import requests\n",
    "from bs4 import BeautifulSoup\n",
    "import csv\n",
    "from itertools import zip_longest\n",
    "import pandas as pd\n"
   ]
  },
  {
   "cell_type": "markdown",
   "metadata": {},
   "source": [
    "## server request"
   ]
  },
  {
   "cell_type": "code",
   "execution_count": 10,
   "metadata": {},
   "outputs": [],
   "source": [
    "result=requests.get(\"https://wuzzuf.net/search/jobs/?a=spbg&q=python\")\n",
    "src=result.content\n",
    "soup=BeautifulSoup(src,\"lxml\")"
   ]
  },
  {
   "cell_type": "code",
   "execution_count": 11,
   "metadata": {},
   "outputs": [],
   "source": [
    "soup=BeautifulSoup(src,\"lxml\")\n",
    "job_title=soup.find_all(\"h2\",{'class':\"css-m604qf\"})\n",
    "#print(job_title)\n",
    "company_name=soup.find_all(\"a\",{\"class\":\"css-17s97q8\"})\n",
    "#print(company_name[-1].text)\n",
    "area=soup.find_all(\"span\",{\"class\":\"css-5wys0k\"})\n",
    "\n",
    "\n"
   ]
  },
  {
   "cell_type": "code",
   "execution_count": 12,
   "metadata": {},
   "outputs": [
    {
     "name": "stdout",
     "output_type": "stream",
     "text": [
      "Python Developer - Internship\n"
     ]
    }
   ],
   "source": [
    "print(job_title[-2].text)"
   ]
  },
  {
   "cell_type": "code",
   "execution_count": 5,
   "metadata": {},
   "outputs": [],
   "source": [
    "job_titles=[]\n",
    "company_names=[]\n",
    "areas=[]\n",
    "links=[]\n",
    "salaries=[]\n",
    "n=0\n",
    "result=requests.get(f\"https://wuzzuf.net/search/jobs/?a=spbg&q=python&start={n}\")\n"
   ]
  },
  {
   "cell_type": "code",
   "execution_count": 6,
   "metadata": {},
   "outputs": [],
   "source": [
    "for n in range (8):\n",
    "    result=requests.get(f\"https://wuzzuf.net/search/jobs/?a=spbg&q=python&start={n}\")\n",
    "    src=result.content\n",
    "    soup=BeautifulSoup(src,\"lxml\")\n",
    "    for i in range (len(job_title)):\n",
    "        job_titles.append(job_title[i].text)\n",
    "        company_names.append(company_name[i].text)\n",
    "        areas.append(area[i].text)\n",
    "        links.append(job_title[i].find(\"a\").attrs[\"href\"])\n",
    "        n=+1\n",
    "\n",
    "\n",
    "    "
   ]
  },
  {
   "cell_type": "code",
   "execution_count": 13,
   "metadata": {},
   "outputs": [],
   "source": [
    "file_list=[job_titles,company_names,areas,salaries]\n",
    "exported=zip_longest(*file_list)"
   ]
  },
  {
   "cell_type": "code",
   "execution_count": 14,
   "metadata": {},
   "outputs": [],
   "source": [
    "with open (\"wuzzuff.csv\",\"w\")as myfile:\n",
    "    wr=csv.writer(myfile)\n",
    "    wr.writerow([\"title\",\"company\",\"area\",\"salary\"])\n",
    "    wr.writerows(exported)\n",
    "  "
   ]
  },
  {
   "cell_type": "code",
   "execution_count": 15,
   "metadata": {},
   "outputs": [
    {
     "data": {
      "text/html": [
       "<div>\n",
       "<style scoped>\n",
       "    .dataframe tbody tr th:only-of-type {\n",
       "        vertical-align: middle;\n",
       "    }\n",
       "\n",
       "    .dataframe tbody tr th {\n",
       "        vertical-align: top;\n",
       "    }\n",
       "\n",
       "    .dataframe thead th {\n",
       "        text-align: right;\n",
       "    }\n",
       "</style>\n",
       "<table border=\"1\" class=\"dataframe\">\n",
       "  <thead>\n",
       "    <tr style=\"text-align: right;\">\n",
       "      <th></th>\n",
       "      <th>title</th>\n",
       "      <th>company</th>\n",
       "      <th>area</th>\n",
       "      <th>salary</th>\n",
       "    </tr>\n",
       "  </thead>\n",
       "  <tbody>\n",
       "    <tr>\n",
       "      <th>0</th>\n",
       "      <td>.css-nn640c{-webkit-text-decoration:none;text-...</td>\n",
       "      <td>Paymob Solutions</td>\n",
       "      <td>Maadi, Cairo, Egypt</td>\n",
       "      <td>NaN</td>\n",
       "    </tr>\n",
       "    <tr>\n",
       "      <th>1</th>\n",
       "      <td>Python Developer</td>\n",
       "      <td>LavaLoon</td>\n",
       "      <td>Nasr City, Cairo, Egypt</td>\n",
       "      <td>NaN</td>\n",
       "    </tr>\n",
       "    <tr>\n",
       "      <th>2</th>\n",
       "      <td>Python Software Developer</td>\n",
       "      <td>Xontel</td>\n",
       "      <td>Glim, Alexandria, Egypt</td>\n",
       "      <td>NaN</td>\n",
       "    </tr>\n",
       "    <tr>\n",
       "      <th>3</th>\n",
       "      <td>Senior Software Engineer - Python Back End</td>\n",
       "      <td>LxT</td>\n",
       "      <td>Mohandessin, Giza, Egypt</td>\n",
       "      <td>NaN</td>\n",
       "    </tr>\n",
       "    <tr>\n",
       "      <th>4</th>\n",
       "      <td>Software Engineer - Java, Spring And Python</td>\n",
       "      <td>YDS yasar digital services</td>\n",
       "      <td>6th of October, Giza, Egypt</td>\n",
       "      <td>NaN</td>\n",
       "    </tr>\n",
       "    <tr>\n",
       "      <th>...</th>\n",
       "      <td>...</td>\n",
       "      <td>...</td>\n",
       "      <td>...</td>\n",
       "      <td>...</td>\n",
       "    </tr>\n",
       "    <tr>\n",
       "      <th>115</th>\n",
       "      <td>Asterisk / Python Application Developer</td>\n",
       "      <td>Tqniat Lab L.L.C</td>\n",
       "      <td>Nasr City, Cairo, Egypt</td>\n",
       "      <td>NaN</td>\n",
       "    </tr>\n",
       "    <tr>\n",
       "      <th>116</th>\n",
       "      <td>Python Developer</td>\n",
       "      <td>Arabian Advanced Systems</td>\n",
       "      <td>New Cairo, Cairo, Egypt</td>\n",
       "      <td>NaN</td>\n",
       "    </tr>\n",
       "    <tr>\n",
       "      <th>117</th>\n",
       "      <td>Senior Software Engineer - Backend Python</td>\n",
       "      <td>unilearn</td>\n",
       "      <td>6th of October, Giza, Egypt</td>\n",
       "      <td>NaN</td>\n",
       "    </tr>\n",
       "    <tr>\n",
       "      <th>118</th>\n",
       "      <td>Python Developer - Internship</td>\n",
       "      <td>RaccoonPlatform</td>\n",
       "      <td>Smart Village, Giza, Egypt</td>\n",
       "      <td>NaN</td>\n",
       "    </tr>\n",
       "    <tr>\n",
       "      <th>119</th>\n",
       "      <td>Software Automation Engineer</td>\n",
       "      <td>AFKAR Technology</td>\n",
       "      <td>Smart Village, Giza, Egypt</td>\n",
       "      <td>NaN</td>\n",
       "    </tr>\n",
       "  </tbody>\n",
       "</table>\n",
       "<p>120 rows × 4 columns</p>\n",
       "</div>"
      ],
      "text/plain": [
       "                                                 title  \\\n",
       "0    .css-nn640c{-webkit-text-decoration:none;text-...   \n",
       "1                                     Python Developer   \n",
       "2                            Python Software Developer   \n",
       "3           Senior Software Engineer - Python Back End   \n",
       "4          Software Engineer - Java, Spring And Python   \n",
       "..                                                 ...   \n",
       "115            Asterisk / Python Application Developer   \n",
       "116                                   Python Developer   \n",
       "117          Senior Software Engineer - Backend Python   \n",
       "118                      Python Developer - Internship   \n",
       "119                       Software Automation Engineer   \n",
       "\n",
       "                         company                          area  salary  \n",
       "0               Paymob Solutions          Maadi, Cairo, Egypt      NaN  \n",
       "1                       LavaLoon      Nasr City, Cairo, Egypt      NaN  \n",
       "2                         Xontel      Glim, Alexandria, Egypt      NaN  \n",
       "3                            LxT     Mohandessin, Giza, Egypt      NaN  \n",
       "4    YDS yasar digital services   6th of October, Giza, Egypt      NaN  \n",
       "..                           ...                           ...     ...  \n",
       "115             Tqniat Lab L.L.C      Nasr City, Cairo, Egypt      NaN  \n",
       "116     Arabian Advanced Systems      New Cairo, Cairo, Egypt      NaN  \n",
       "117                     unilearn  6th of October, Giza, Egypt      NaN  \n",
       "118              RaccoonPlatform   Smart Village, Giza, Egypt      NaN  \n",
       "119             AFKAR Technology   Smart Village, Giza, Egypt      NaN  \n",
       "\n",
       "[120 rows x 4 columns]"
      ]
     },
     "execution_count": 15,
     "metadata": {},
     "output_type": "execute_result"
    }
   ],
   "source": [
    "df=pd.read_csv(\"wuzzuff.csv\")\n",
    "df"
   ]
  },
  {
   "cell_type": "code",
   "execution_count": 39,
   "metadata": {},
   "outputs": [
    {
     "name": "stdout",
     "output_type": "stream",
     "text": [
      "<class 'pandas.core.frame.DataFrame'>\n",
      "RangeIndex: 810 entries, 0 to 809\n",
      "Data columns (total 4 columns):\n",
      " #   Column   Non-Null Count  Dtype  \n",
      "---  ------   --------------  -----  \n",
      " 0   title    810 non-null    object \n",
      " 1   company  810 non-null    object \n",
      " 2   area     810 non-null    object \n",
      " 3   salary   0 non-null      float64\n",
      "dtypes: float64(1), object(3)\n",
      "memory usage: 25.4+ KB\n"
     ]
    }
   ],
   "source": [
    "df.info()"
   ]
  }
 ],
 "metadata": {
  "kernelspec": {
   "display_name": "Python 3",
   "language": "python",
   "name": "python3"
  },
  "language_info": {
   "codemirror_mode": {
    "name": "ipython",
    "version": 3
   },
   "file_extension": ".py",
   "mimetype": "text/x-python",
   "name": "python",
   "nbconvert_exporter": "python",
   "pygments_lexer": "ipython3",
   "version": "3.7.6"
  }
 },
 "nbformat": 4,
 "nbformat_minor": 4
}
